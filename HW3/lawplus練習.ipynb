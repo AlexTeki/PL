{
 "cells": [
  {
   "cell_type": "code",
   "execution_count": 18,
   "id": "f567146e",
   "metadata": {},
   "outputs": [],
   "source": [
    "import urllib.request as req\n",
    "import json\n",
    "import pandas as pd\n",
    "import numpy\n",
    "import requests"
   ]
  },
  {
   "cell_type": "code",
   "execution_count": 19,
   "id": "9600e644",
   "metadata": {},
   "outputs": [],
   "source": [
    "link='https://www.lawplus.com.tw/rest/search/report?querySentence=%25E8%25A9%2590%25E6%25AC%25BA'"
   ]
  },
  {
   "cell_type": "code",
   "execution_count": 20,
   "id": "75806363",
   "metadata": {},
   "outputs": [
    {
     "data": {
      "text/plain": [
       "<Response [200]>"
      ]
     },
     "execution_count": 20,
     "metadata": {},
     "output_type": "execute_result"
    }
   ],
   "source": [
    "res=requests.get(link)\n",
    "res"
   ]
  },
  {
   "cell_type": "code",
   "execution_count": 21,
   "id": "e0fa7f0b",
   "metadata": {},
   "outputs": [
    {
     "data": {
      "text/plain": [
       "'{\"page\":1,\"records\":635594,\"rows\":[{\"caseNum\":\"100,易,1354\",\"caseType\":\"M\",\"content\":\"臺灣屏東地方法院刑事判決\\u3000\\u3000\\u3000\\u3000\\u3000\\u3000 100年度易字第1354號\\\\r\\\\n公\\u3000訴\\u3000人\\u3000臺灣屏東地方法院檢察署檢察官\\\\r\\\\n被\\u3000\\u3000\\u3000告\\u3000吳富榮\\\\r\\\\n選任辯護人\\u3000周春米律師\\\\r\\\\n\\u3000\\u3000\\u3000\\u3000\\u3000\\u3000黃偉倫律師\\\\r\\\\n被\\u3000\\u3000\\u3000告\\u3000廖...\",\"court\":\"\",\"identifier\":\"PTDM,100,易,1354,20120213,2-4f8f1945-1f92-4afa-86f1-159e6e734e90\",\"issue\":\"詐欺\",\"jtype\":\"J\",\"judgeDate\":\"2012/02/13\",\"litigant\":null,\"tags\":null,\"title\":\"PTDM,100,易,1354,20120213,2-4f8f1945-1f92-4afa-86f1-159e6e734e90\",\"type\":\"刑事判決\"},{\"caseNum\":\"109,聲,2655\",\"caseType\":\"M\",\"content\":\"臺灣臺北地方法院刑事裁定\\\\r\\\\n109年度聲字第2655號\\\\r\\\\n聲  請  人  臺灣臺北地方檢察署檢察官\\\\r\\\\n受  刑  人  陳柏勳\\\\r\\\\n\\\\r\\\\n\\\\r\\\\n\\\\r\\\\n上列聲請人因受刑人數罪併罰有二裁判以上，聲請定其應執行之...\",\"court\":\"\",\"identifier\":\"TPDM,109,聲,2655,20210112,1-989f49f3-66e9-49a7-bac4-e55e5f61423d\",\"issue\":\"聲請定其應執行刑\",\"jtype\":\"R\",\"judgeDate\":\"2021/01/12\",\"litigant\":null,\"tags\":null,\"title\":\"TPDM,109,聲,2655,20210112,1-989f49f3-66e9-49a7-bac4-e55e5f61423d\",\"type\":\"刑事裁定\"},{\"caseNum\":\"101,上易,380\",\"caseType\":\"M\",\"content\":\"臺灣高等法院高雄分院刑事判決\\u3000\\u3000\\u3000\\u3000101年度上易字第380號\\\\r\\\\n上\\u3000訴\\u3000人\\u3000臺灣屏東地方法院檢察署檢察官\\\\r\\\\n上\\u3000訴\\u3000人\\\\r\\\\n即\\u3000被\\u3000告\\u3000吳富榮\\\\r\\\\n選任辯護人\\u3000周春米律師\\\\r\\\\n選任辯護人\\u3000黃偉倫律師\\\\r\\\\n上...\",\"court\":\"\",\"identifier\":\"KSHM,101,上易,380,20120912,1-ad9fcff8-a86f-48d2-aa0f-1c51d54e8fff\",\"issue\":\"詐欺\",\"jtype\":\"J\",\"judgeDate\":\"2012/09/12\",\"litigant\":null,\"tags\":null,\"title\":\"KSHM,101,上易,380,20120912,1-ad9fcff8-a86f-48d2-aa0f-1c51d54e8fff\",\"type\":\"刑事判決\"},{\"caseNum\":\"108,單聲沒,60\",\"caseType\":\"M\",\"content\":\"臺灣苗栗地方法院刑事裁定\\u3000\\u3000\\u3000\\u3000\\u3000 108年度單聲沒字第60號\\\\r\\\\n聲\\u3000請\\u3000人\\u3000臺灣苗栗地方檢察署檢察官\\\\r\\\\n被\\u3000\\u3000\\u3000告\\u3000藍\\ue972隆\\\\r\\\\n\\\\r\\\\n\\\\r\\\\n上列被告因詐欺案件（107 年度偵字第4557號），聲請人聲請單...\",\"court\":\"\",\"identifier\":\"MLDM,108,單聲沒,60,20200102,1-73540bc9-c1c9-42e2-b437-285ff91cb2fb\",\"issue\":\"聲請單獨宣告沒收\",\"jtype\":\"R\",\"judgeDate\":\"2020/01/02\",\"litigant\":null,\"tags\":null,\"title\":\"MLDM,108,單聲沒,60,20200102,1-73540bc9-c1c9-42e2-b437-285ff91cb2fb\",\"type\":\"刑事裁定\"},{\"caseNum\":\"109,金訴,56\",\"caseType\":\"M\",\"content\":\"臺灣臺中地方法院刑事判決\\u3000\\u3000\\u3000\\u3000\\u3000\\u3000 109年度金訴字第56號\\\\r\\\\n公\\u3000訴\\u3000人\\u3000臺灣臺中地方檢察署檢察官\\\\r\\\\n被\\u3000\\u3000\\u3000告\\u3000蔡玟倩\\\\r\\\\n\\\\r\\\\n\\\\r\\\\n\\\\r\\\\n上列被告因詐欺等案件，經檢察官提起公訴（109年度偵字第17...\",\"court\":\"\",\"identifier\":\"TCDM,109,金訴,56,20200731,1-9d0b6d73-94ff-4068-b770-436e1808aefa\",\"issue\":\"詐欺等\",\"jtype\":\"J\",\"judgeDate\":\"2020/07/31\",\"litigant\":null,\"tags\":null,\"title\":\"TCDM,109,金訴,56,20200731,1-9d0b6d73-94ff-4068-b770-436e1808aefa\",\"type\":\"刑事判決\"},{\"caseNum\":\"108,台上,1005\",\"caseType\":\"M\",\"content\":\"最高法院刑事判決\\u3000\\u3000\\u3000\\u3000\\u3000\\u3000\\u3000\\u3000\\u3000 108年度台上字第1005號\\\\n上\\u3000訴\\u3000人\\u3000洪崧筌（原名洪睿成）\\\\n上列上訴人因違反槍砲彈藥刀械管制條例等罪案件，不服臺灣高\\\\n等法院臺中分院中華民國107 年6 月13...\",\"court\":\"\",\"identifier\":\"TPSM,108,台上,1005,20190425,1-b6a596f9-0ce8-4b59-886e-131a133a2b40\",\"issue\":\"違反槍砲彈藥刀械管制條例等罪\",\"jtype\":\"J\",\"judgeDate\":\"2019/04/25\",\"litigant\":null,\"tags\":null,\"title\":\"TPSM,108,台上,1005,20190425,1-b6a596f9-0ce8-4b59-886e-131a133a2b40\",\"type\":\"刑事判決\"},{\"caseNum\":\"100,重附民緝,2\",\"caseType\":\"M\",\"content\":\"臺灣彰化地方法院刑事附帶民事判決\\u3000100年度重附民緝字第2號\\\\r\\\\n原\\u3000\\u3000\\u3000告\\u3000陳德義\\\\r\\\\n被\\u3000\\u3000\\u3000告\\u3000張貴中原名張冠梃.\\\\r\\\\n上列被告因本院100年度訴緝字第77號常業詐欺等案件，經原告\\\\r\\\\n提起附帶民事訴訟...\",\"court\":\"\",\"identifier\":\"CHDM,100,重附民緝,2,20111230,1-272b3bf3-f43a-4c7e-9bf9-08129da4cfb2\",\"issue\":\"請求賠償損害\",\"jtype\":\"J\",\"judgeDate\":\"2011/12/30\",\"litigant\":null,\"tags\":null,\"title\":\"CHDM,100,重附民緝,2,20111230,1-272b3bf3-f43a-4c7e-9bf9-08129da4cfb2\",\"type\":\"民事判決\"},{\"caseNum\":\"107,聲,2670\",\"caseType\":\"M\",\"content\":\"臺灣高等法院刑事裁定\\u3000\\u3000\\u3000\\u3000\\u3000\\u3000\\u3000\\u3000 107年度聲字第2670號\\\\r\\\\n聲\\u3000請\\u3000人\\\\r\\\\n即\\u3000被\\u3000告\\u3000彭弘亮\\\\r\\\\n選任辯護人\\u3000顏瑞成律師\\\\r\\\\n上列聲請人因詐欺等案件（107年度原上訴字第112號），聲請具\\\\r\\\\n保停...\",\"court\":\"\",\"identifier\":\"TPHM,107,聲,2670,20180918,1-31834072-71ed-44b2-84cd-b71995f6b399\",\"issue\":\"聲請具保停止羈押\",\"jtype\":\"R\",\"judgeDate\":\"2018/09/18\",\"litigant\":null,\"tags\":null,\"title\":\"TPHM,107,聲,2670,20180918,1-31834072-71ed-44b2-84cd-b71995f6b399\",\"type\":\"刑事裁定\"},{\"caseNum\":\"106,審簡,1205\",\"caseType\":\"M\",\"content\":\"臺灣士林地方法院刑事簡易判決\\u3000\\u3000\\u3000 106年度審簡字第1205號\\\\r\\\\n公\\u3000訴\\u3000人\\u3000臺灣士林地方檢察署檢察官\\\\r\\\\n被\\u3000\\u3000\\u3000告\\u3000魏福佑\\\\r\\\\n上列被告因詐欺案件，經檢察官提起公訴（106 年度偵緝字第60\\\\r\\\\n2 ...\",\"court\":\"\",\"identifier\":\"SLDM,106,審簡,1205,20180807,1-56525606-00b0-4152-9fcf-c3680d894b2d\",\"issue\":\"詐欺\",\"jtype\":\"J\",\"judgeDate\":\"2018/08/07\",\"litigant\":null,\"tags\":null,\"title\":\"SLDM,106,審簡,1205,20180807,1-56525606-00b0-4152-9fcf-c3680d894b2d\",\"type\":\"刑事判決\"},{\"caseNum\":\"109,上更一,334\",\"caseType\":\"M\",\"content\":\"臺灣高等法院臺中分院刑事判決\\u3000\\u3000\\u3000109年度上更一字第334號\\\\r\\\\n \\\\r\\\\n上\\u3000訴\\u3000人\\u3000臺灣臺中地方檢察署檢察官\\\\r\\\\n被\\u3000\\u3000\\u3000告\\u3000楊秉儒\\\\r\\\\n\\\\r\\\\n\\\\r\\\\n\\\\r\\\\n\\\\r\\\\n上列上訴人因被告加重詐欺等案件，不服臺灣臺中地方法...\",\"court\":\"\",\"identifier\":\"TCHM,109,上更一,334,20201216,1-93a212f9-75a1-47a8-b78c-63d00557a9eb\",\"issue\":\"加重詐欺\",\"jtype\":\"J\",\"judgeDate\":\"2020/12/16\",\"litigant\":null,\"tags\":null,\"title\":\"TCHM,109,上更一,334,20201216,1-93a212f9-75a1-47a8-b78c-63d00557a9eb\",\"type\":\"刑事判決\"}],\"total\":63560,\"userdata\":{\"series\":[{\"name\":\"2021\",\"y\":10324},{\"name\":\"2020\",\"y\":43351},{\"name\":\"2019\",\"y\":47918},{\"name\":\"2018\",\"y\":46853},{\"name\":\"2017\",\"y\":42107},{\"name\":\"2016\",\"y\":34444},{\"name\":\"2015\",\"y\":28372},{\"name\":\"2014\",\"y\":29540},{\"name\":\"2013\",\"y\":28318},{\"name\":\"2012\",\"y\":30824},{\"name\":\"2011\",\"y\":32914},{\"name\":\"2010\",\"y\":35091},{\"name\":\"2009\",\"y\":36441},{\"name\":\"2008\",\"y\":35196},{\"name\":\"2007\",\"y\":33926},{\"name\":\"2006\",\"y\":22467},{\"name\":\"2005\",\"y\":15603},{\"name\":\"2004\",\"y\":13622},{\"name\":\"2003\",\"y\":15302},{\"name\":\"2002\",\"y\":15050},{\"name\":\"2001\",\"y\":18703},{\"name\":\"2000\",\"y\":18881},{\"name\":\"1999\",\"y\":191},{\"name\":\"1998\",\"y\":141},{\"name\":\"1997\",\"y\":1},{\"name\":\"1996\",\"y\":14}],\"categories\":[\"2021\",\"2020\",\"2019\",\"2018\",\"2017\",\"2016\",\"2015\",\"2014\",\"2013\",\"2012\",\"2011\",\"2010\",\"2009\",\"2008\",\"2007\",\"2006\",\"2005\",\"2004\",\"2003\",\"2002\",\"2001\",\"2000\",\"1999\",\"1998\",\"1997\",\"1996\"]}}'"
      ]
     },
     "execution_count": 21,
     "metadata": {},
     "output_type": "execute_result"
    }
   ],
   "source": [
    "res.text"
   ]
  },
  {
   "cell_type": "code",
   "execution_count": 25,
   "id": "e13aaf8d",
   "metadata": {},
   "outputs": [
    {
     "data": {
      "text/plain": [
       "{'page': 1,\n",
       " 'records': 635594,\n",
       " 'rows': [{'caseNum': '100,易,1354',\n",
       "   'caseType': 'M',\n",
       "   'content': '臺灣屏東地方法院刑事判決\\u3000\\u3000\\u3000\\u3000\\u3000\\u3000 100年度易字第1354號\\r\\n公\\u3000訴\\u3000人\\u3000臺灣屏東地方法院檢察署檢察官\\r\\n被\\u3000\\u3000\\u3000告\\u3000吳富榮\\r\\n選任辯護人\\u3000周春米律師\\r\\n\\u3000\\u3000\\u3000\\u3000\\u3000\\u3000黃偉倫律師\\r\\n被\\u3000\\u3000\\u3000告\\u3000廖...',\n",
       "   'court': '',\n",
       "   'identifier': 'PTDM,100,易,1354,20120213,2-4f8f1945-1f92-4afa-86f1-159e6e734e90',\n",
       "   'issue': '詐欺',\n",
       "   'jtype': 'J',\n",
       "   'judgeDate': '2012/02/13',\n",
       "   'litigant': None,\n",
       "   'tags': None,\n",
       "   'title': 'PTDM,100,易,1354,20120213,2-4f8f1945-1f92-4afa-86f1-159e6e734e90',\n",
       "   'type': '刑事判決'},\n",
       "  {'caseNum': '109,聲,2655',\n",
       "   'caseType': 'M',\n",
       "   'content': '臺灣臺北地方法院刑事裁定\\r\\n109年度聲字第2655號\\r\\n聲  請  人  臺灣臺北地方檢察署檢察官\\r\\n受  刑  人  陳柏勳\\r\\n\\r\\n\\r\\n\\r\\n上列聲請人因受刑人數罪併罰有二裁判以上，聲請定其應執行之...',\n",
       "   'court': '',\n",
       "   'identifier': 'TPDM,109,聲,2655,20210112,1-989f49f3-66e9-49a7-bac4-e55e5f61423d',\n",
       "   'issue': '聲請定其應執行刑',\n",
       "   'jtype': 'R',\n",
       "   'judgeDate': '2021/01/12',\n",
       "   'litigant': None,\n",
       "   'tags': None,\n",
       "   'title': 'TPDM,109,聲,2655,20210112,1-989f49f3-66e9-49a7-bac4-e55e5f61423d',\n",
       "   'type': '刑事裁定'},\n",
       "  {'caseNum': '101,上易,380',\n",
       "   'caseType': 'M',\n",
       "   'content': '臺灣高等法院高雄分院刑事判決\\u3000\\u3000\\u3000\\u3000101年度上易字第380號\\r\\n上\\u3000訴\\u3000人\\u3000臺灣屏東地方法院檢察署檢察官\\r\\n上\\u3000訴\\u3000人\\r\\n即\\u3000被\\u3000告\\u3000吳富榮\\r\\n選任辯護人\\u3000周春米律師\\r\\n選任辯護人\\u3000黃偉倫律師\\r\\n上...',\n",
       "   'court': '',\n",
       "   'identifier': 'KSHM,101,上易,380,20120912,1-ad9fcff8-a86f-48d2-aa0f-1c51d54e8fff',\n",
       "   'issue': '詐欺',\n",
       "   'jtype': 'J',\n",
       "   'judgeDate': '2012/09/12',\n",
       "   'litigant': None,\n",
       "   'tags': None,\n",
       "   'title': 'KSHM,101,上易,380,20120912,1-ad9fcff8-a86f-48d2-aa0f-1c51d54e8fff',\n",
       "   'type': '刑事判決'},\n",
       "  {'caseNum': '108,單聲沒,60',\n",
       "   'caseType': 'M',\n",
       "   'content': '臺灣苗栗地方法院刑事裁定\\u3000\\u3000\\u3000\\u3000\\u3000 108年度單聲沒字第60號\\r\\n聲\\u3000請\\u3000人\\u3000臺灣苗栗地方檢察署檢察官\\r\\n被\\u3000\\u3000\\u3000告\\u3000藍\\ue972隆\\r\\n\\r\\n\\r\\n上列被告因詐欺案件（107 年度偵字第4557號），聲請人聲請單...',\n",
       "   'court': '',\n",
       "   'identifier': 'MLDM,108,單聲沒,60,20200102,1-73540bc9-c1c9-42e2-b437-285ff91cb2fb',\n",
       "   'issue': '聲請單獨宣告沒收',\n",
       "   'jtype': 'R',\n",
       "   'judgeDate': '2020/01/02',\n",
       "   'litigant': None,\n",
       "   'tags': None,\n",
       "   'title': 'MLDM,108,單聲沒,60,20200102,1-73540bc9-c1c9-42e2-b437-285ff91cb2fb',\n",
       "   'type': '刑事裁定'},\n",
       "  {'caseNum': '109,金訴,56',\n",
       "   'caseType': 'M',\n",
       "   'content': '臺灣臺中地方法院刑事判決\\u3000\\u3000\\u3000\\u3000\\u3000\\u3000 109年度金訴字第56號\\r\\n公\\u3000訴\\u3000人\\u3000臺灣臺中地方檢察署檢察官\\r\\n被\\u3000\\u3000\\u3000告\\u3000蔡玟倩\\r\\n\\r\\n\\r\\n\\r\\n上列被告因詐欺等案件，經檢察官提起公訴（109年度偵字第17...',\n",
       "   'court': '',\n",
       "   'identifier': 'TCDM,109,金訴,56,20200731,1-9d0b6d73-94ff-4068-b770-436e1808aefa',\n",
       "   'issue': '詐欺等',\n",
       "   'jtype': 'J',\n",
       "   'judgeDate': '2020/07/31',\n",
       "   'litigant': None,\n",
       "   'tags': None,\n",
       "   'title': 'TCDM,109,金訴,56,20200731,1-9d0b6d73-94ff-4068-b770-436e1808aefa',\n",
       "   'type': '刑事判決'},\n",
       "  {'caseNum': '108,台上,1005',\n",
       "   'caseType': 'M',\n",
       "   'content': '最高法院刑事判決\\u3000\\u3000\\u3000\\u3000\\u3000\\u3000\\u3000\\u3000\\u3000 108年度台上字第1005號\\n上\\u3000訴\\u3000人\\u3000洪崧筌（原名洪睿成）\\n上列上訴人因違反槍砲彈藥刀械管制條例等罪案件，不服臺灣高\\n等法院臺中分院中華民國107 年6 月13...',\n",
       "   'court': '',\n",
       "   'identifier': 'TPSM,108,台上,1005,20190425,1-b6a596f9-0ce8-4b59-886e-131a133a2b40',\n",
       "   'issue': '違反槍砲彈藥刀械管制條例等罪',\n",
       "   'jtype': 'J',\n",
       "   'judgeDate': '2019/04/25',\n",
       "   'litigant': None,\n",
       "   'tags': None,\n",
       "   'title': 'TPSM,108,台上,1005,20190425,1-b6a596f9-0ce8-4b59-886e-131a133a2b40',\n",
       "   'type': '刑事判決'},\n",
       "  {'caseNum': '100,重附民緝,2',\n",
       "   'caseType': 'M',\n",
       "   'content': '臺灣彰化地方法院刑事附帶民事判決\\u3000100年度重附民緝字第2號\\r\\n原\\u3000\\u3000\\u3000告\\u3000陳德義\\r\\n被\\u3000\\u3000\\u3000告\\u3000張貴中原名張冠梃.\\r\\n上列被告因本院100年度訴緝字第77號常業詐欺等案件，經原告\\r\\n提起附帶民事訴訟...',\n",
       "   'court': '',\n",
       "   'identifier': 'CHDM,100,重附民緝,2,20111230,1-272b3bf3-f43a-4c7e-9bf9-08129da4cfb2',\n",
       "   'issue': '請求賠償損害',\n",
       "   'jtype': 'J',\n",
       "   'judgeDate': '2011/12/30',\n",
       "   'litigant': None,\n",
       "   'tags': None,\n",
       "   'title': 'CHDM,100,重附民緝,2,20111230,1-272b3bf3-f43a-4c7e-9bf9-08129da4cfb2',\n",
       "   'type': '民事判決'},\n",
       "  {'caseNum': '107,聲,2670',\n",
       "   'caseType': 'M',\n",
       "   'content': '臺灣高等法院刑事裁定\\u3000\\u3000\\u3000\\u3000\\u3000\\u3000\\u3000\\u3000 107年度聲字第2670號\\r\\n聲\\u3000請\\u3000人\\r\\n即\\u3000被\\u3000告\\u3000彭弘亮\\r\\n選任辯護人\\u3000顏瑞成律師\\r\\n上列聲請人因詐欺等案件（107年度原上訴字第112號），聲請具\\r\\n保停...',\n",
       "   'court': '',\n",
       "   'identifier': 'TPHM,107,聲,2670,20180918,1-31834072-71ed-44b2-84cd-b71995f6b399',\n",
       "   'issue': '聲請具保停止羈押',\n",
       "   'jtype': 'R',\n",
       "   'judgeDate': '2018/09/18',\n",
       "   'litigant': None,\n",
       "   'tags': None,\n",
       "   'title': 'TPHM,107,聲,2670,20180918,1-31834072-71ed-44b2-84cd-b71995f6b399',\n",
       "   'type': '刑事裁定'},\n",
       "  {'caseNum': '106,審簡,1205',\n",
       "   'caseType': 'M',\n",
       "   'content': '臺灣士林地方法院刑事簡易判決\\u3000\\u3000\\u3000 106年度審簡字第1205號\\r\\n公\\u3000訴\\u3000人\\u3000臺灣士林地方檢察署檢察官\\r\\n被\\u3000\\u3000\\u3000告\\u3000魏福佑\\r\\n上列被告因詐欺案件，經檢察官提起公訴（106 年度偵緝字第60\\r\\n2 ...',\n",
       "   'court': '',\n",
       "   'identifier': 'SLDM,106,審簡,1205,20180807,1-56525606-00b0-4152-9fcf-c3680d894b2d',\n",
       "   'issue': '詐欺',\n",
       "   'jtype': 'J',\n",
       "   'judgeDate': '2018/08/07',\n",
       "   'litigant': None,\n",
       "   'tags': None,\n",
       "   'title': 'SLDM,106,審簡,1205,20180807,1-56525606-00b0-4152-9fcf-c3680d894b2d',\n",
       "   'type': '刑事判決'},\n",
       "  {'caseNum': '109,上更一,334',\n",
       "   'caseType': 'M',\n",
       "   'content': '臺灣高等法院臺中分院刑事判決\\u3000\\u3000\\u3000109年度上更一字第334號\\r\\n \\r\\n上\\u3000訴\\u3000人\\u3000臺灣臺中地方檢察署檢察官\\r\\n被\\u3000\\u3000\\u3000告\\u3000楊秉儒\\r\\n\\r\\n\\r\\n\\r\\n\\r\\n上列上訴人因被告加重詐欺等案件，不服臺灣臺中地方法...',\n",
       "   'court': '',\n",
       "   'identifier': 'TCHM,109,上更一,334,20201216,1-93a212f9-75a1-47a8-b78c-63d00557a9eb',\n",
       "   'issue': '加重詐欺',\n",
       "   'jtype': 'J',\n",
       "   'judgeDate': '2020/12/16',\n",
       "   'litigant': None,\n",
       "   'tags': None,\n",
       "   'title': 'TCHM,109,上更一,334,20201216,1-93a212f9-75a1-47a8-b78c-63d00557a9eb',\n",
       "   'type': '刑事判決'}],\n",
       " 'total': 63560,\n",
       " 'userdata': {'series': [{'name': '2021', 'y': 10324},\n",
       "   {'name': '2020', 'y': 43351},\n",
       "   {'name': '2019', 'y': 47918},\n",
       "   {'name': '2018', 'y': 46853},\n",
       "   {'name': '2017', 'y': 42107},\n",
       "   {'name': '2016', 'y': 34444},\n",
       "   {'name': '2015', 'y': 28372},\n",
       "   {'name': '2014', 'y': 29540},\n",
       "   {'name': '2013', 'y': 28318},\n",
       "   {'name': '2012', 'y': 30824},\n",
       "   {'name': '2011', 'y': 32914},\n",
       "   {'name': '2010', 'y': 35091},\n",
       "   {'name': '2009', 'y': 36441},\n",
       "   {'name': '2008', 'y': 35196},\n",
       "   {'name': '2007', 'y': 33926},\n",
       "   {'name': '2006', 'y': 22467},\n",
       "   {'name': '2005', 'y': 15603},\n",
       "   {'name': '2004', 'y': 13622},\n",
       "   {'name': '2003', 'y': 15302},\n",
       "   {'name': '2002', 'y': 15050},\n",
       "   {'name': '2001', 'y': 18703},\n",
       "   {'name': '2000', 'y': 18881},\n",
       "   {'name': '1999', 'y': 191},\n",
       "   {'name': '1998', 'y': 141},\n",
       "   {'name': '1997', 'y': 1},\n",
       "   {'name': '1996', 'y': 14}],\n",
       "  'categories': ['2021',\n",
       "   '2020',\n",
       "   '2019',\n",
       "   '2018',\n",
       "   '2017',\n",
       "   '2016',\n",
       "   '2015',\n",
       "   '2014',\n",
       "   '2013',\n",
       "   '2012',\n",
       "   '2011',\n",
       "   '2010',\n",
       "   '2009',\n",
       "   '2008',\n",
       "   '2007',\n",
       "   '2006',\n",
       "   '2005',\n",
       "   '2004',\n",
       "   '2003',\n",
       "   '2002',\n",
       "   '2001',\n",
       "   '2000',\n",
       "   '1999',\n",
       "   '1998',\n",
       "   '1997',\n",
       "   '1996']}}"
      ]
     },
     "execution_count": 25,
     "metadata": {},
     "output_type": "execute_result"
    }
   ],
   "source": [
    "data=json.loads(res.text)\n",
    "data\n"
   ]
  },
  {
   "cell_type": "code",
   "execution_count": 26,
   "id": "fdcda314",
   "metadata": {},
   "outputs": [
    {
     "name": "stdout",
     "output_type": "stream",
     "text": [
      "<class 'dict'>\n"
     ]
    }
   ],
   "source": [
    "print(type(data)) "
   ]
  },
  {
   "cell_type": "code",
   "execution_count": 27,
   "id": "786c4090",
   "metadata": {},
   "outputs": [
    {
     "ename": "ValueError",
     "evalue": "Mixing dicts with non-Series may lead to ambiguous ordering.",
     "output_type": "error",
     "traceback": [
      "\u001b[1;31m---------------------------------------------------------------------------\u001b[0m",
      "\u001b[1;31mValueError\u001b[0m                                Traceback (most recent call last)",
      "\u001b[1;32m~\\AppData\\Local\\Temp\\ipykernel_14900\\619732844.py\u001b[0m in \u001b[0;36m<module>\u001b[1;34m\u001b[0m\n\u001b[1;32m----> 1\u001b[1;33m \u001b[0mdf\u001b[0m \u001b[1;33m=\u001b[0m \u001b[0mpd\u001b[0m\u001b[1;33m.\u001b[0m\u001b[0mDataFrame\u001b[0m\u001b[1;33m(\u001b[0m\u001b[0mdata\u001b[0m\u001b[1;33m)\u001b[0m\u001b[1;33m\u001b[0m\u001b[1;33m\u001b[0m\u001b[0m\n\u001b[0m\u001b[0;32m      2\u001b[0m \u001b[1;33m\u001b[0m\u001b[0m\n\u001b[0;32m      3\u001b[0m \u001b[0mprint\u001b[0m\u001b[1;33m(\u001b[0m\u001b[0mdf\u001b[0m\u001b[1;33m)\u001b[0m\u001b[1;33m\u001b[0m\u001b[1;33m\u001b[0m\u001b[0m\n",
      "\u001b[1;32m~\\anaconda3\\lib\\site-packages\\pandas\\core\\frame.py\u001b[0m in \u001b[0;36m__init__\u001b[1;34m(self, data, index, columns, dtype, copy)\u001b[0m\n\u001b[0;32m    634\u001b[0m         \u001b[1;32melif\u001b[0m \u001b[0misinstance\u001b[0m\u001b[1;33m(\u001b[0m\u001b[0mdata\u001b[0m\u001b[1;33m,\u001b[0m \u001b[0mdict\u001b[0m\u001b[1;33m)\u001b[0m\u001b[1;33m:\u001b[0m\u001b[1;33m\u001b[0m\u001b[1;33m\u001b[0m\u001b[0m\n\u001b[0;32m    635\u001b[0m             \u001b[1;31m# GH#38939 de facto copy defaults to False only in non-dict cases\u001b[0m\u001b[1;33m\u001b[0m\u001b[1;33m\u001b[0m\u001b[0m\n\u001b[1;32m--> 636\u001b[1;33m             \u001b[0mmgr\u001b[0m \u001b[1;33m=\u001b[0m \u001b[0mdict_to_mgr\u001b[0m\u001b[1;33m(\u001b[0m\u001b[0mdata\u001b[0m\u001b[1;33m,\u001b[0m \u001b[0mindex\u001b[0m\u001b[1;33m,\u001b[0m \u001b[0mcolumns\u001b[0m\u001b[1;33m,\u001b[0m \u001b[0mdtype\u001b[0m\u001b[1;33m=\u001b[0m\u001b[0mdtype\u001b[0m\u001b[1;33m,\u001b[0m \u001b[0mcopy\u001b[0m\u001b[1;33m=\u001b[0m\u001b[0mcopy\u001b[0m\u001b[1;33m,\u001b[0m \u001b[0mtyp\u001b[0m\u001b[1;33m=\u001b[0m\u001b[0mmanager\u001b[0m\u001b[1;33m)\u001b[0m\u001b[1;33m\u001b[0m\u001b[1;33m\u001b[0m\u001b[0m\n\u001b[0m\u001b[0;32m    637\u001b[0m         \u001b[1;32melif\u001b[0m \u001b[0misinstance\u001b[0m\u001b[1;33m(\u001b[0m\u001b[0mdata\u001b[0m\u001b[1;33m,\u001b[0m \u001b[0mma\u001b[0m\u001b[1;33m.\u001b[0m\u001b[0mMaskedArray\u001b[0m\u001b[1;33m)\u001b[0m\u001b[1;33m:\u001b[0m\u001b[1;33m\u001b[0m\u001b[1;33m\u001b[0m\u001b[0m\n\u001b[0;32m    638\u001b[0m             \u001b[1;32mimport\u001b[0m \u001b[0mnumpy\u001b[0m\u001b[1;33m.\u001b[0m\u001b[0mma\u001b[0m\u001b[1;33m.\u001b[0m\u001b[0mmrecords\u001b[0m \u001b[1;32mas\u001b[0m \u001b[0mmrecords\u001b[0m\u001b[1;33m\u001b[0m\u001b[1;33m\u001b[0m\u001b[0m\n",
      "\u001b[1;32m~\\anaconda3\\lib\\site-packages\\pandas\\core\\internals\\construction.py\u001b[0m in \u001b[0;36mdict_to_mgr\u001b[1;34m(data, index, columns, dtype, typ, copy)\u001b[0m\n\u001b[0;32m    500\u001b[0m         \u001b[1;31m# TODO: can we get rid of the dt64tz special case above?\u001b[0m\u001b[1;33m\u001b[0m\u001b[1;33m\u001b[0m\u001b[0m\n\u001b[0;32m    501\u001b[0m \u001b[1;33m\u001b[0m\u001b[0m\n\u001b[1;32m--> 502\u001b[1;33m     \u001b[1;32mreturn\u001b[0m \u001b[0marrays_to_mgr\u001b[0m\u001b[1;33m(\u001b[0m\u001b[0marrays\u001b[0m\u001b[1;33m,\u001b[0m \u001b[0mcolumns\u001b[0m\u001b[1;33m,\u001b[0m \u001b[0mindex\u001b[0m\u001b[1;33m,\u001b[0m \u001b[0mdtype\u001b[0m\u001b[1;33m=\u001b[0m\u001b[0mdtype\u001b[0m\u001b[1;33m,\u001b[0m \u001b[0mtyp\u001b[0m\u001b[1;33m=\u001b[0m\u001b[0mtyp\u001b[0m\u001b[1;33m,\u001b[0m \u001b[0mconsolidate\u001b[0m\u001b[1;33m=\u001b[0m\u001b[0mcopy\u001b[0m\u001b[1;33m)\u001b[0m\u001b[1;33m\u001b[0m\u001b[1;33m\u001b[0m\u001b[0m\n\u001b[0m\u001b[0;32m    503\u001b[0m \u001b[1;33m\u001b[0m\u001b[0m\n\u001b[0;32m    504\u001b[0m \u001b[1;33m\u001b[0m\u001b[0m\n",
      "\u001b[1;32m~\\anaconda3\\lib\\site-packages\\pandas\\core\\internals\\construction.py\u001b[0m in \u001b[0;36marrays_to_mgr\u001b[1;34m(arrays, columns, index, dtype, verify_integrity, typ, consolidate)\u001b[0m\n\u001b[0;32m    118\u001b[0m         \u001b[1;31m# figure out the index, if necessary\u001b[0m\u001b[1;33m\u001b[0m\u001b[1;33m\u001b[0m\u001b[0m\n\u001b[0;32m    119\u001b[0m         \u001b[1;32mif\u001b[0m \u001b[0mindex\u001b[0m \u001b[1;32mis\u001b[0m \u001b[1;32mNone\u001b[0m\u001b[1;33m:\u001b[0m\u001b[1;33m\u001b[0m\u001b[1;33m\u001b[0m\u001b[0m\n\u001b[1;32m--> 120\u001b[1;33m             \u001b[0mindex\u001b[0m \u001b[1;33m=\u001b[0m \u001b[0m_extract_index\u001b[0m\u001b[1;33m(\u001b[0m\u001b[0marrays\u001b[0m\u001b[1;33m)\u001b[0m\u001b[1;33m\u001b[0m\u001b[1;33m\u001b[0m\u001b[0m\n\u001b[0m\u001b[0;32m    121\u001b[0m         \u001b[1;32melse\u001b[0m\u001b[1;33m:\u001b[0m\u001b[1;33m\u001b[0m\u001b[1;33m\u001b[0m\u001b[0m\n\u001b[0;32m    122\u001b[0m             \u001b[0mindex\u001b[0m \u001b[1;33m=\u001b[0m \u001b[0mensure_index\u001b[0m\u001b[1;33m(\u001b[0m\u001b[0mindex\u001b[0m\u001b[1;33m)\u001b[0m\u001b[1;33m\u001b[0m\u001b[1;33m\u001b[0m\u001b[0m\n",
      "\u001b[1;32m~\\anaconda3\\lib\\site-packages\\pandas\\core\\internals\\construction.py\u001b[0m in \u001b[0;36m_extract_index\u001b[1;34m(data)\u001b[0m\n\u001b[0;32m    675\u001b[0m \u001b[1;33m\u001b[0m\u001b[0m\n\u001b[0;32m    676\u001b[0m             \u001b[1;32mif\u001b[0m \u001b[0mhave_dicts\u001b[0m\u001b[1;33m:\u001b[0m\u001b[1;33m\u001b[0m\u001b[1;33m\u001b[0m\u001b[0m\n\u001b[1;32m--> 677\u001b[1;33m                 raise ValueError(\n\u001b[0m\u001b[0;32m    678\u001b[0m                     \u001b[1;34m\"Mixing dicts with non-Series may lead to ambiguous ordering.\"\u001b[0m\u001b[1;33m\u001b[0m\u001b[1;33m\u001b[0m\u001b[0m\n\u001b[0;32m    679\u001b[0m                 )\n",
      "\u001b[1;31mValueError\u001b[0m: Mixing dicts with non-Series may lead to ambiguous ordering."
     ]
    }
   ],
   "source": [
    "df = pd.DataFrame(data)\n",
    "\n",
    "print(df)"
   ]
  },
  {
   "cell_type": "code",
   "execution_count": null,
   "id": "f2622da3",
   "metadata": {},
   "outputs": [],
   "source": []
  }
 ],
 "metadata": {
  "kernelspec": {
   "display_name": "Python 3 (ipykernel)",
   "language": "python",
   "name": "python3"
  },
  "language_info": {
   "codemirror_mode": {
    "name": "ipython",
    "version": 3
   },
   "file_extension": ".py",
   "mimetype": "text/x-python",
   "name": "python",
   "nbconvert_exporter": "python",
   "pygments_lexer": "ipython3",
   "version": "3.9.13"
  }
 },
 "nbformat": 4,
 "nbformat_minor": 5
}
