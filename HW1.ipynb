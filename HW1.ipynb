{
 "cells": [
  {
   "cell_type": "code",
   "execution_count": 1,
   "id": "0826dbc0",
   "metadata": {},
   "outputs": [
    {
     "data": {
      "text/html": [
       "<div>\n",
       "<style scoped>\n",
       "    .dataframe tbody tr th:only-of-type {\n",
       "        vertical-align: middle;\n",
       "    }\n",
       "\n",
       "    .dataframe tbody tr th {\n",
       "        vertical-align: top;\n",
       "    }\n",
       "\n",
       "    .dataframe thead th {\n",
       "        text-align: right;\n",
       "    }\n",
       "</style>\n",
       "<table border=\"1\" class=\"dataframe\">\n",
       "  <thead>\n",
       "    <tr style=\"text-align: right;\">\n",
       "      <th></th>\n",
       "      <th>Name</th>\n",
       "      <th>Platform</th>\n",
       "      <th>Year_of_Release</th>\n",
       "      <th>Genre</th>\n",
       "      <th>Publisher</th>\n",
       "      <th>NA_Sales</th>\n",
       "      <th>EU_Sales</th>\n",
       "      <th>JP_Sales</th>\n",
       "      <th>Other_Sales</th>\n",
       "      <th>Global_Sales</th>\n",
       "      <th>Critic_Score</th>\n",
       "      <th>Critic_Count</th>\n",
       "      <th>User_Score</th>\n",
       "      <th>User_Count</th>\n",
       "      <th>Developer</th>\n",
       "      <th>Rating</th>\n",
       "    </tr>\n",
       "  </thead>\n",
       "  <tbody>\n",
       "    <tr>\n",
       "      <th>0</th>\n",
       "      <td>Wii Sports</td>\n",
       "      <td>Wii</td>\n",
       "      <td>2006.0</td>\n",
       "      <td>Sports</td>\n",
       "      <td>Nintendo</td>\n",
       "      <td>41.36</td>\n",
       "      <td>28.96</td>\n",
       "      <td>3.77</td>\n",
       "      <td>8.45</td>\n",
       "      <td>82.53</td>\n",
       "      <td>76.0</td>\n",
       "      <td>51.0</td>\n",
       "      <td>8</td>\n",
       "      <td>322.0</td>\n",
       "      <td>Nintendo</td>\n",
       "      <td>E</td>\n",
       "    </tr>\n",
       "    <tr>\n",
       "      <th>1</th>\n",
       "      <td>Super Mario Bros.</td>\n",
       "      <td>NES</td>\n",
       "      <td>1985.0</td>\n",
       "      <td>Platform</td>\n",
       "      <td>Nintendo</td>\n",
       "      <td>29.08</td>\n",
       "      <td>3.58</td>\n",
       "      <td>6.81</td>\n",
       "      <td>0.77</td>\n",
       "      <td>40.24</td>\n",
       "      <td>NaN</td>\n",
       "      <td>NaN</td>\n",
       "      <td>NaN</td>\n",
       "      <td>NaN</td>\n",
       "      <td>NaN</td>\n",
       "      <td>NaN</td>\n",
       "    </tr>\n",
       "    <tr>\n",
       "      <th>2</th>\n",
       "      <td>Mario Kart Wii</td>\n",
       "      <td>Wii</td>\n",
       "      <td>2008.0</td>\n",
       "      <td>Racing</td>\n",
       "      <td>Nintendo</td>\n",
       "      <td>15.68</td>\n",
       "      <td>12.76</td>\n",
       "      <td>3.79</td>\n",
       "      <td>3.29</td>\n",
       "      <td>35.52</td>\n",
       "      <td>82.0</td>\n",
       "      <td>73.0</td>\n",
       "      <td>8.3</td>\n",
       "      <td>709.0</td>\n",
       "      <td>Nintendo</td>\n",
       "      <td>E</td>\n",
       "    </tr>\n",
       "    <tr>\n",
       "      <th>3</th>\n",
       "      <td>Wii Sports Resort</td>\n",
       "      <td>Wii</td>\n",
       "      <td>2009.0</td>\n",
       "      <td>Sports</td>\n",
       "      <td>Nintendo</td>\n",
       "      <td>15.61</td>\n",
       "      <td>10.93</td>\n",
       "      <td>3.28</td>\n",
       "      <td>2.95</td>\n",
       "      <td>32.77</td>\n",
       "      <td>80.0</td>\n",
       "      <td>73.0</td>\n",
       "      <td>8</td>\n",
       "      <td>192.0</td>\n",
       "      <td>Nintendo</td>\n",
       "      <td>E</td>\n",
       "    </tr>\n",
       "    <tr>\n",
       "      <th>4</th>\n",
       "      <td>Pokemon Red/Pokemon Blue</td>\n",
       "      <td>GB</td>\n",
       "      <td>1996.0</td>\n",
       "      <td>Role-Playing</td>\n",
       "      <td>Nintendo</td>\n",
       "      <td>11.27</td>\n",
       "      <td>8.89</td>\n",
       "      <td>10.22</td>\n",
       "      <td>1.00</td>\n",
       "      <td>31.37</td>\n",
       "      <td>NaN</td>\n",
       "      <td>NaN</td>\n",
       "      <td>NaN</td>\n",
       "      <td>NaN</td>\n",
       "      <td>NaN</td>\n",
       "      <td>NaN</td>\n",
       "    </tr>\n",
       "  </tbody>\n",
       "</table>\n",
       "</div>"
      ],
      "text/plain": [
       "                       Name Platform  Year_of_Release         Genre Publisher  \\\n",
       "0                Wii Sports      Wii           2006.0        Sports  Nintendo   \n",
       "1         Super Mario Bros.      NES           1985.0      Platform  Nintendo   \n",
       "2            Mario Kart Wii      Wii           2008.0        Racing  Nintendo   \n",
       "3         Wii Sports Resort      Wii           2009.0        Sports  Nintendo   \n",
       "4  Pokemon Red/Pokemon Blue       GB           1996.0  Role-Playing  Nintendo   \n",
       "\n",
       "   NA_Sales  EU_Sales  JP_Sales  Other_Sales  Global_Sales  Critic_Score  \\\n",
       "0     41.36     28.96      3.77         8.45         82.53          76.0   \n",
       "1     29.08      3.58      6.81         0.77         40.24           NaN   \n",
       "2     15.68     12.76      3.79         3.29         35.52          82.0   \n",
       "3     15.61     10.93      3.28         2.95         32.77          80.0   \n",
       "4     11.27      8.89     10.22         1.00         31.37           NaN   \n",
       "\n",
       "   Critic_Count User_Score  User_Count Developer Rating  \n",
       "0          51.0          8       322.0  Nintendo      E  \n",
       "1           NaN        NaN         NaN       NaN    NaN  \n",
       "2          73.0        8.3       709.0  Nintendo      E  \n",
       "3          73.0          8       192.0  Nintendo      E  \n",
       "4           NaN        NaN         NaN       NaN    NaN  "
      ]
     },
     "execution_count": 1,
     "metadata": {},
     "output_type": "execute_result"
    }
   ],
   "source": [
    "import pandas as pd\n",
    "\n",
    "data=pd.read_csv('games.data.csv')\n",
    "data.head()\n"
   ]
  },
  {
   "cell_type": "code",
   "execution_count": 2,
   "id": "31973575",
   "metadata": {},
   "outputs": [
    {
     "name": "stdout",
     "output_type": "stream",
     "text": [
      "遊戲發行商出現次數：\n",
      "Electronic Arts                 1356\n",
      "Activision                       985\n",
      "Namco Bandai Games               939\n",
      "Ubisoft                          933\n",
      "Konami Digital Entertainment     834\n",
      "                                ... \n",
      "Valve                              1\n",
      "ITT Family Games                   1\n",
      "Elite                              1\n",
      "Evolution Games                    1\n",
      "Red Flagship                       1\n",
      "Name: Publisher, Length: 581, dtype: int64\n",
      "Publisher列中出現最多的遊戲發行商是： Electronic Arts\n"
     ]
    }
   ],
   "source": [
    "#找出哪個遊戲發行商出現次數最多\n",
    "most_common_P = data['Publisher'].value_counts().idxmax()\n",
    "value_counts_P = data['Publisher'].value_counts()\n",
    "print(\"遊戲發行商出現次數：\")\n",
    "print(value_counts_P)\n",
    "print(\"Publisher列中出現最多的遊戲發行商是：\", most_common_P)\n"
   ]
  },
  {
   "cell_type": "code",
   "execution_count": 3,
   "id": "c3ce072f",
   "metadata": {
    "scrolled": true
   },
   "outputs": [
    {
     "name": "stdout",
     "output_type": "stream",
     "text": [
      "\n",
      "遊戲分類記數：\n",
      "Action          3370\n",
      "Sports          2348\n",
      "Misc            1750\n",
      "Role-Playing    1500\n",
      "Shooter         1323\n",
      "Adventure       1303\n",
      "Racing          1249\n",
      "Platform         888\n",
      "Simulation       874\n",
      "Fighting         849\n",
      "Strategy         683\n",
      "Puzzle           580\n",
      "Name: Genre, dtype: int64\n",
      "Genre列中出現最多次數的值是： Action\n"
     ]
    }
   ],
   "source": [
    "#找出哪個種類的遊戲出現最多次數\n",
    "most_common_G = data['Genre'].value_counts().idxmax()\n",
    "value_counts_G= data['Genre'].value_counts()\n",
    "print(\"遊戲分類記數：\")\n",
    "print(value_counts_G)\n",
    "print(\"Genre列中出現最多次數的值是：\", most_common_G)\n"
   ]
  },
  {
   "cell_type": "code",
   "execution_count": 28,
   "id": "d16dd94d",
   "metadata": {},
   "outputs": [
    {
     "name": "stdout",
     "output_type": "stream",
     "text": [
      "                Name  NA_Sales\n",
      "0         Wii Sports     41.36\n",
      "1  Super Mario Bros.     29.08\n",
      "2          Duck Hunt     26.93\n",
      "3             Tetris     23.20\n",
      "4     Mario Kart Wii     15.68\n",
      "5  Wii Sports Resort     15.61\n"
     ]
    }
   ],
   "source": [
    "#找出北美地區銷售排行榜\n",
    "nasales=data.sort_values(by='NA_Sales', ascending=False)\n",
    "nasales.to_csv('games.data.csv', index=False)\n",
    "nasales=pd.read_csv('games.data.csv')\n",
    "print(nasales.loc[[0,1,2,3,4,5],['Name','NA_Sales']])"
   ]
  },
  {
   "cell_type": "code",
   "execution_count": 23,
   "id": "4195bded",
   "metadata": {},
   "outputs": [
    {
     "name": "stdout",
     "output_type": "stream",
     "text": [
      "釋出年份最老的遊戲:\n",
      "Asteroids\n",
      "釋出年分:\n",
      "1980.0\n"
     ]
    }
   ],
   "source": [
    "#找出釋出年分最老的遊戲\n",
    "oldest = data.sort_values('Year_of_Release')\n",
    "oldest.to_csv('games.data.csv', index=False)\n",
    "oldest =pd.read_csv('games.data.csv')\n",
    "print(\"釋出年份最老的遊戲:\")\n",
    "print(oldest.loc[0, 'Name'])\n",
    "print(\"釋出年分:\")\n",
    "print(oldest.loc[0,'Year_of_Release'])"
   ]
  },
  {
   "cell_type": "code",
   "execution_count": 7,
   "id": "0055ebc0",
   "metadata": {},
   "outputs": [
    {
     "name": "stdout",
     "output_type": "stream",
     "text": [
      "                                           Name  EU_Sales\n",
      "0                                    Wii Sports     28.96\n",
      "1                                Mario Kart Wii     12.76\n",
      "2                                    Nintendogs     10.95\n",
      "3                             Wii Sports Resort     10.93\n",
      "4  Brain Age: Train Your Brain in Minutes a Day      9.20\n",
      "5                                      Wii Play      9.18\n"
     ]
    }
   ],
   "source": [
    "#找出歐洲地區銷售排行榜\n",
    "eusales=data.sort_values(by='EU_Sales', ascending=False)\n",
    "eusales.to_csv('games.data.csv', index=False)\n",
    "eusales=pd.read_csv('games.data.csv')\n",
    "print(eusales.loc[[0,1,2,3,4,5],['Name','EU_Sales']])"
   ]
  },
  {
   "cell_type": "code",
   "execution_count": 8,
   "id": "38e965a1",
   "metadata": {},
   "outputs": [
    {
     "name": "stdout",
     "output_type": "stream",
     "text": [
      "                            Name  JP_Sales\n",
      "0       Pokemon Red/Pokemon Blue     10.22\n",
      "1    Pokemon Gold/Pokemon Silver      7.20\n",
      "2              Super Mario Bros.      6.81\n",
      "3          New Super Mario Bros.      6.50\n",
      "4  Pokemon Diamond/Pokemon Pearl      6.04\n",
      "5    Pokemon Black/Pokemon White      5.65\n"
     ]
    }
   ],
   "source": [
    "#找出日本地區銷售排行榜\n",
    "jpsales=data.sort_values(by='JP_Sales', ascending=False)\n",
    "jpsales.to_csv('games.data.csv', index=False)\n",
    "jpsales=pd.read_csv('games.data.csv')\n",
    "print(jpsales.loc[[0,1,2,3,4,5],['Name','JP_Sales']])"
   ]
  },
  {
   "cell_type": "code",
   "execution_count": 9,
   "id": "fd688122",
   "metadata": {},
   "outputs": [
    {
     "name": "stdout",
     "output_type": "stream",
     "text": [
      "遊戲年代記數：\n",
      "2008.0    1427\n",
      "2009.0    1426\n",
      "2010.0    1255\n",
      "2007.0    1197\n",
      "2011.0    1136\n",
      "2006.0    1006\n",
      "2005.0     939\n",
      "2002.0     829\n",
      "2003.0     775\n",
      "2004.0     762\n",
      "2012.0     653\n",
      "2015.0     606\n",
      "2014.0     581\n",
      "2013.0     544\n",
      "2016.0     502\n",
      "2001.0     482\n",
      "1998.0     379\n",
      "2000.0     350\n",
      "1999.0     338\n",
      "1997.0     289\n",
      "1996.0     263\n",
      "1995.0     219\n",
      "1994.0     121\n",
      "1993.0      62\n",
      "1981.0      46\n",
      "1992.0      43\n",
      "1991.0      41\n",
      "1982.0      36\n",
      "1986.0      21\n",
      "1989.0      17\n",
      "1983.0      17\n",
      "1990.0      16\n",
      "1987.0      16\n",
      "1988.0      15\n",
      "1985.0      14\n",
      "1984.0      14\n",
      "1980.0       9\n",
      "2017.0       3\n",
      "2020.0       1\n",
      "Name: Year_of_Release, dtype: int64\n",
      "Year_of_Release列中出現最多次數的值是： 2008.0\n"
     ]
    }
   ],
   "source": [
    "#找出哪個年代的遊戲出現最多次數\n",
    "most_common_P = data['Year_of_Release'].value_counts().idxmax()\n",
    "value_counts_P= data['Year_of_Release'].value_counts()\n",
    "print(\"遊戲年代記數：\")\n",
    "print(value_counts_P)\n",
    "print(\"Year_of_Release列中出現最多次數的值是：\", most_common_P)\n"
   ]
  },
  {
   "cell_type": "code",
   "execution_count": 10,
   "id": "48ce1218",
   "metadata": {},
   "outputs": [
    {
     "name": "stdout",
     "output_type": "stream",
     "text": [
      "遊戲平台出現次數：\n",
      "PS2     2161\n",
      "DS      2152\n",
      "PS3     1331\n",
      "Wii     1320\n",
      "X360    1262\n",
      "PSP     1209\n",
      "PS      1197\n",
      "PC       974\n",
      "XB       824\n",
      "GBA      822\n",
      "GC       556\n",
      "3DS      520\n",
      "PSV      432\n",
      "PS4      393\n",
      "N64      319\n",
      "XOne     247\n",
      "SNES     239\n",
      "SAT      173\n",
      "WiiU     147\n",
      "2600     133\n",
      "NES       98\n",
      "GB        98\n",
      "DC        52\n",
      "GEN       29\n",
      "NG        12\n",
      "SCD        6\n",
      "WS         6\n",
      "3DO        3\n",
      "TG16       2\n",
      "PCFX       1\n",
      "GG         1\n",
      "Name: Platform, dtype: int64\n",
      "Platform列中出現最多次數的值是： PS2\n"
     ]
    }
   ],
   "source": [
    "#找出哪個遊戲平台出現最多次數\n",
    "most_common_PL = data['Platform'].value_counts().idxmax()\n",
    "value_counts_PL= data['Platform'].value_counts()\n",
    "print(\"遊戲平台出現次數：\")\n",
    "print(value_counts_PL)\n",
    "print(\"Platform列中出現最多次數的值是：\", most_common_PL)"
   ]
  },
  {
   "cell_type": "code",
   "execution_count": 27,
   "id": "c007dc6d",
   "metadata": {},
   "outputs": [
    {
     "name": "stdout",
     "output_type": "stream",
     "text": [
      "                       Name  Global_Sales\n",
      "0                Wii Sports         82.53\n",
      "1         Super Mario Bros.         40.24\n",
      "2            Mario Kart Wii         35.52\n",
      "3         Wii Sports Resort         32.77\n",
      "4  Pokemon Red/Pokemon Blue         31.37\n",
      "5                    Tetris         30.26\n"
     ]
    }
   ],
   "source": [
    "#找出全球銷售排行榜\n",
    "glsales=data.sort_values(by='Global_Sales', ascending=False)\n",
    "glsales.to_csv('games.data.csv', index=False)\n",
    "glsales=pd.read_csv('games.data.csv')\n",
    "print(glsales.loc[[0,1,2,3,4,5],['Name','Global_Sales']])"
   ]
  },
  {
   "cell_type": "code",
   "execution_count": 44,
   "id": "23abef2f",
   "metadata": {},
   "outputs": [
    {
     "name": "stdout",
     "output_type": "stream",
     "text": [
      "                            Name  Other_Sales\n",
      "0  Grand Theft Auto: San Andreas        10.57\n",
      "1                     Wii Sports         8.45\n",
      "2                 Gran Turismo 4         7.53\n",
      "3             Grand Theft Auto V         3.96\n",
      "4                 Mario Kart Wii         3.29\n",
      "5              Wii Sports Resort         2.95\n"
     ]
    }
   ],
   "source": [
    "#找出其他地區銷售排行榜\n",
    "otsales=data.sort_values(by='Other_Sales', ascending=False)\n",
    "otsales.to_csv('games.data.csv', index=False)\n",
    "otsales=pd.read_csv('games.data.csv')\n",
    "print(otsales.loc[[0,1,2,3,4,5],['Name','Other_Sales']])"
   ]
  },
  {
   "cell_type": "code",
   "execution_count": null,
   "id": "a93db548",
   "metadata": {},
   "outputs": [],
   "source": []
  },
  {
   "cell_type": "code",
   "execution_count": null,
   "id": "a511596e",
   "metadata": {},
   "outputs": [],
   "source": []
  }
 ],
 "metadata": {
  "kernelspec": {
   "display_name": "Python 3 (ipykernel)",
   "language": "python",
   "name": "python3"
  },
  "language_info": {
   "codemirror_mode": {
    "name": "ipython",
    "version": 3
   },
   "file_extension": ".py",
   "mimetype": "text/x-python",
   "name": "python",
   "nbconvert_exporter": "python",
   "pygments_lexer": "ipython3",
   "version": "3.9.13"
  }
 },
 "nbformat": 4,
 "nbformat_minor": 5
}
